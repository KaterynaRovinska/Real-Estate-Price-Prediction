{
 "cells": [
  {
   "cell_type": "markdown",
   "metadata": {},
   "source": [
    "# 1.Libraries"
   ]
  },
  {
   "cell_type": "code",
   "execution_count": 1,
   "metadata": {},
   "outputs": [],
   "source": [
    "# Base ------------------------------------------------\n",
    "import numpy as np\n",
    "import pandas as pd\n",
    "import scipy.stats as ss\n",
    "import statsmodels.stats.weightstats as smw\n",
    "import math\n",
    "import plotly.express as px\n",
    "\n",
    "pd.options.display.max_columns = None\n",
    "pd.options.display.max_rows = None\n",
    "pd.options.display.float_format = '{:.1f}'.format\n",
    "\n",
    "#plt.style.use('seaborn')\n",
    "# Viz -------------------------------------------------------\n",
    "import matplotlib.pyplot as plt\n",
    "import seaborn as sns\n",
    "plt.style.use('ggplot')\n",
    "%matplotlib inline\n",
    "\n",
    "# Estimation and Models -------------------------------------\n",
    "import statsmodels.stats.proportion as smp       # Estimation of proportions\n",
    "import statsmodels.stats.weightstats as smw      # Estimation of the Mean\n",
    "from statsmodels.stats.power import TTestPower   # Power of the Test\n",
    "\n",
    "# Standard Library Imports\n",
    "from pathlib import Path\n",
    "\n",
    "# Our package\n",
    "from ydata_profiling import ProfileReport\n",
    "from ydata_profiling.utils.cache import cache_file\n",
    "\n",
    "from plotnine import *\n",
    "\n",
    "from geopy.geocoders import Nominatim\n",
    "from geopy.exc import GeocoderTimedOut"
   ]
  },
  {
   "cell_type": "markdown",
   "metadata": {},
   "source": [
    "# 2. Datasets"
   ]
  },
  {
   "cell_type": "code",
   "execution_count": 4,
   "metadata": {},
   "outputs": [
    {
     "data": {
      "text/html": [
       "<div>\n",
       "<style scoped>\n",
       "    .dataframe tbody tr th:only-of-type {\n",
       "        vertical-align: middle;\n",
       "    }\n",
       "\n",
       "    .dataframe tbody tr th {\n",
       "        vertical-align: top;\n",
       "    }\n",
       "\n",
       "    .dataframe thead th {\n",
       "        text-align: right;\n",
       "    }\n",
       "</style>\n",
       "<table border=\"1\" class=\"dataframe\">\n",
       "  <thead>\n",
       "    <tr style=\"text-align: right;\">\n",
       "      <th></th>\n",
       "      <th>latitude</th>\n",
       "      <th>longitude</th>\n",
       "      <th>heating</th>\n",
       "      <th>air_conditioning</th>\n",
       "      <th>surface</th>\n",
       "      <th>new_flag</th>\n",
       "      <th>status</th>\n",
       "      <th>caption</th>\n",
       "      <th>price</th>\n",
       "      <th>room</th>\n",
       "      <th>property_class</th>\n",
       "      <th>category</th>\n",
       "      <th>total_building_floors</th>\n",
       "      <th>bathroom</th>\n",
       "      <th>elevator_flag</th>\n",
       "      <th>construction_year</th>\n",
       "      <th>title</th>\n",
       "      <th>condominium_fees</th>\n",
       "      <th>ownership</th>\n",
       "      <th>other_features</th>\n",
       "      <th>energy_efficiency</th>\n",
       "      <th>floor_text</th>\n",
       "      <th>floor</th>\n",
       "      <th>typology</th>\n",
       "      <th>description</th>\n",
       "      <th>visibility</th>\n",
       "      <th>main_photo_url</th>\n",
       "    </tr>\n",
       "  </thead>\n",
       "  <tbody>\n",
       "    <tr>\n",
       "      <th>0</th>\n",
       "      <td>37.6</td>\n",
       "      <td>15.0</td>\n",
       "      <td>Autonomo</td>\n",
       "      <td>None</td>\n",
       "      <td>200 m²</td>\n",
       "      <td>0.0</td>\n",
       "      <td>Excellent condition / Renovated</td>\n",
       "      <td>Villa o villino in vendita a Mascalucia</td>\n",
       "      <td>310000</td>\n",
       "      <td>5+</td>\n",
       "      <td>Mid-range properties</td>\n",
       "      <td>Residential</td>\n",
       "      <td>3.0</td>\n",
       "      <td>3</td>\n",
       "      <td>0</td>\n",
       "      <td>NaN</td>\n",
       "      <td>Villa unifamiliare via Busoni 5 Centro Mascalucia</td>\n",
       "      <td>0.0</td>\n",
       "      <td>Full ownership</td>\n",
       "      <td>['Balcone', 'Giardino privato']</td>\n",
       "      <td>None</td>\n",
       "      <td>Su più livelli</td>\n",
       "      <td>NaN</td>\n",
       "      <td>Single-family villa</td>\n",
       "      <td>Ampia villa con vista panoramica in via Busoni...</td>\n",
       "      <td>premium</td>\n",
       "      <td>https://pwm.im-cdn.it/image/1249030802/xxs-c.jpg</td>\n",
       "    </tr>\n",
       "    <tr>\n",
       "      <th>1</th>\n",
       "      <td>37.6</td>\n",
       "      <td>15.1</td>\n",
       "      <td>None</td>\n",
       "      <td>None</td>\n",
       "      <td>300 m²</td>\n",
       "      <td>0.0</td>\n",
       "      <td>Needs renovation</td>\n",
       "      <td>Villa a Ficarazzi con ampio spazio esterno e l...</td>\n",
       "      <td>329000</td>\n",
       "      <td>5+</td>\n",
       "      <td>Luxury properties</td>\n",
       "      <td>Residential</td>\n",
       "      <td>2.0</td>\n",
       "      <td>2</td>\n",
       "      <td>0</td>\n",
       "      <td>1895.0</td>\n",
       "      <td>Villa unifamiliare via Tripoli 145 95021 Aci C...</td>\n",
       "      <td>0.0</td>\n",
       "      <td>Full ownership</td>\n",
       "      <td>['Balcone', 'Terrazza', 'Impianto tv singolo',...</td>\n",
       "      <td>G</td>\n",
       "      <td>Piano terra</td>\n",
       "      <td>0.0</td>\n",
       "      <td>Single-family villa</td>\n",
       "      <td>Composizione e dettagli rilevanti dellimmobile...</td>\n",
       "      <td>premium</td>\n",
       "      <td>https://pwm.im-cdn.it/image/1248833182/xxs-c.jpg</td>\n",
       "    </tr>\n",
       "    <tr>\n",
       "      <th>2</th>\n",
       "      <td>37.5</td>\n",
       "      <td>15.1</td>\n",
       "      <td>Autonomo</td>\n",
       "      <td>Autonomo, freddo/caldo</td>\n",
       "      <td>148 m² | commerciale 174,5 m²</td>\n",
       "      <td>0.0</td>\n",
       "      <td>Excellent condition / Renovated</td>\n",
       "      <td>Zona Ognina Indipendente con garage e spazio e...</td>\n",
       "      <td>330000</td>\n",
       "      <td>4</td>\n",
       "      <td>Mid-range properties</td>\n",
       "      <td>Residential</td>\n",
       "      <td>2.0</td>\n",
       "      <td>3</td>\n",
       "      <td>0</td>\n",
       "      <td>2000.0</td>\n",
       "      <td>Villa unifamiliare via Veglia 10 Picanello Cat...</td>\n",
       "      <td>0.0</td>\n",
       "      <td>Full ownership</td>\n",
       "      <td>['Cancello elettrico', 'Caminetto', 'VideoCito...</td>\n",
       "      <td>E</td>\n",
       "      <td>2 piani: da Seminterrato a Piano terra</td>\n",
       "      <td>0.0</td>\n",
       "      <td>Single-family villa</td>\n",
       "      <td>Nella zona di Ognina esattamente in via Veglia...</td>\n",
       "      <td>premium</td>\n",
       "      <td>https://pwm.im-cdn.it/image/1247716050/xxs-c.jpg</td>\n",
       "    </tr>\n",
       "  </tbody>\n",
       "</table>\n",
       "</div>"
      ],
      "text/plain": [
       "0  latitude  longitude   heating        air_conditioning  \\\n",
       "0      37.6       15.0  Autonomo                    None   \n",
       "1      37.6       15.1      None                    None   \n",
       "2      37.5       15.1  Autonomo  Autonomo, freddo/caldo   \n",
       "\n",
       "0                        surface  new_flag                           status  \\\n",
       "0                         200 m²       0.0  Excellent condition / Renovated   \n",
       "1                         300 m²       0.0                 Needs renovation   \n",
       "2  148 m² | commerciale 174,5 m²       0.0  Excellent condition / Renovated   \n",
       "\n",
       "0                                            caption   price room  \\\n",
       "0            Villa o villino in vendita a Mascalucia  310000   5+   \n",
       "1  Villa a Ficarazzi con ampio spazio esterno e l...  329000   5+   \n",
       "2  Zona Ognina Indipendente con garage e spazio e...  330000    4   \n",
       "\n",
       "0        property_class     category  total_building_floors bathroom  \\\n",
       "0  Mid-range properties  Residential                    3.0        3   \n",
       "1     Luxury properties  Residential                    2.0        2   \n",
       "2  Mid-range properties  Residential                    2.0        3   \n",
       "\n",
       "0  elevator_flag  construction_year  \\\n",
       "0              0                NaN   \n",
       "1              0             1895.0   \n",
       "2              0             2000.0   \n",
       "\n",
       "0                                              title  condominium_fees  \\\n",
       "0  Villa unifamiliare via Busoni 5 Centro Mascalucia               0.0   \n",
       "1  Villa unifamiliare via Tripoli 145 95021 Aci C...               0.0   \n",
       "2  Villa unifamiliare via Veglia 10 Picanello Cat...               0.0   \n",
       "\n",
       "0       ownership                                     other_features  \\\n",
       "0  Full ownership                    ['Balcone', 'Giardino privato']   \n",
       "1  Full ownership  ['Balcone', 'Terrazza', 'Impianto tv singolo',...   \n",
       "2  Full ownership  ['Cancello elettrico', 'Caminetto', 'VideoCito...   \n",
       "\n",
       "0 energy_efficiency                              floor_text  floor  \\\n",
       "0              None                          Su più livelli    NaN   \n",
       "1                 G                             Piano terra    0.0   \n",
       "2                 E  2 piani: da Seminterrato a Piano terra    0.0   \n",
       "\n",
       "0             typology                                        description  \\\n",
       "0  Single-family villa  Ampia villa con vista panoramica in via Busoni...   \n",
       "1  Single-family villa  Composizione e dettagli rilevanti dellimmobile...   \n",
       "2  Single-family villa  Nella zona di Ognina esattamente in via Veglia...   \n",
       "\n",
       "0 visibility                                    main_photo_url  \n",
       "0    premium  https://pwm.im-cdn.it/image/1249030802/xxs-c.jpg  \n",
       "1    premium  https://pwm.im-cdn.it/image/1248833182/xxs-c.jpg  \n",
       "2    premium  https://pwm.im-cdn.it/image/1247716050/xxs-c.jpg  "
      ]
     },
     "execution_count": 4,
     "metadata": {},
     "output_type": "execute_result"
    }
   ],
   "source": [
    "# MAIN DATA SET\n",
    "df = pd.read_parquet('Data raw.parquet')\n",
    "df.head(3)"
   ]
  },
  {
   "cell_type": "code",
   "execution_count": 6,
   "metadata": {},
   "outputs": [
    {
     "data": {
      "text/html": [
       "<div>\n",
       "<style scoped>\n",
       "    .dataframe tbody tr th:only-of-type {\n",
       "        vertical-align: middle;\n",
       "    }\n",
       "\n",
       "    .dataframe tbody tr th {\n",
       "        vertical-align: top;\n",
       "    }\n",
       "\n",
       "    .dataframe thead th {\n",
       "        text-align: right;\n",
       "    }\n",
       "</style>\n",
       "<table border=\"1\" class=\"dataframe\">\n",
       "  <thead>\n",
       "    <tr style=\"text-align: right;\">\n",
       "      <th></th>\n",
       "      <th>Regions</th>\n",
       "      <th>Immobiliare.it</th>\n",
       "      <th>mydolcecasa</th>\n",
       "      <th>Idealista.it</th>\n",
       "      <th>Statista</th>\n",
       "      <th>Average</th>\n",
       "    </tr>\n",
       "  </thead>\n",
       "  <tbody>\n",
       "    <tr>\n",
       "      <th>0</th>\n",
       "      <td>Trentino Alto Adige</td>\n",
       "      <td>3138</td>\n",
       "      <td>2836.8</td>\n",
       "      <td>2832</td>\n",
       "      <td>2660</td>\n",
       "      <td>2866.7</td>\n",
       "    </tr>\n",
       "    <tr>\n",
       "      <th>1</th>\n",
       "      <td>Valle d'Aosta</td>\n",
       "      <td>2733</td>\n",
       "      <td>2699.4</td>\n",
       "      <td>2634</td>\n",
       "      <td>2600</td>\n",
       "      <td>2666.6</td>\n",
       "    </tr>\n",
       "    <tr>\n",
       "      <th>2</th>\n",
       "      <td>Liguria</td>\n",
       "      <td>2546</td>\n",
       "      <td>2532.5</td>\n",
       "      <td>2500</td>\n",
       "      <td>2490</td>\n",
       "      <td>2517.1</td>\n",
       "    </tr>\n",
       "  </tbody>\n",
       "</table>\n",
       "</div>"
      ],
      "text/plain": [
       "               Regions  Immobiliare.it  mydolcecasa  Idealista.it  Statista  \\\n",
       "0  Trentino Alto Adige            3138       2836.8          2832      2660   \n",
       "1        Valle d'Aosta            2733       2699.4          2634      2600   \n",
       "2              Liguria            2546       2532.5          2500      2490   \n",
       "\n",
       "   Average  \n",
       "0   2866.7  \n",
       "1   2666.6  \n",
       "2   2517.1  "
      ]
     },
     "execution_count": 6,
     "metadata": {},
     "output_type": "execute_result"
    }
   ],
   "source": [
    "# Load Market data\n",
    "market = pd.read_excel('market.xlsx', sheet_name='Market')\n",
    "market.head(3)"
   ]
  },
  {
   "cell_type": "code",
   "execution_count": 7,
   "metadata": {},
   "outputs": [
    {
     "data": {
      "text/html": [
       "<div>\n",
       "<style scoped>\n",
       "    .dataframe tbody tr th:only-of-type {\n",
       "        vertical-align: middle;\n",
       "    }\n",
       "\n",
       "    .dataframe tbody tr th {\n",
       "        vertical-align: top;\n",
       "    }\n",
       "\n",
       "    .dataframe thead th {\n",
       "        text-align: right;\n",
       "    }\n",
       "</style>\n",
       "<table border=\"1\" class=\"dataframe\">\n",
       "  <thead>\n",
       "    <tr style=\"text-align: right;\">\n",
       "      <th></th>\n",
       "      <th>city</th>\n",
       "      <th>city_ascii</th>\n",
       "      <th>lat</th>\n",
       "      <th>lng</th>\n",
       "      <th>country</th>\n",
       "      <th>iso2</th>\n",
       "      <th>iso3</th>\n",
       "      <th>admin_name</th>\n",
       "      <th>capital</th>\n",
       "      <th>population</th>\n",
       "      <th>id</th>\n",
       "      <th>latmin</th>\n",
       "      <th>latmax</th>\n",
       "      <th>logmin</th>\n",
       "      <th>logmax</th>\n",
       "    </tr>\n",
       "  </thead>\n",
       "  <tbody>\n",
       "    <tr>\n",
       "      <th>0</th>\n",
       "      <td>Rome</td>\n",
       "      <td>Rome</td>\n",
       "      <td>41.9</td>\n",
       "      <td>12.5</td>\n",
       "      <td>Italy</td>\n",
       "      <td>IT</td>\n",
       "      <td>ITA</td>\n",
       "      <td>Lazio</td>\n",
       "      <td>primary</td>\n",
       "      <td>2872800</td>\n",
       "      <td>1380382862</td>\n",
       "      <td>41.2</td>\n",
       "      <td>42.5</td>\n",
       "      <td>11.6</td>\n",
       "      <td>13.8</td>\n",
       "    </tr>\n",
       "    <tr>\n",
       "      <th>1</th>\n",
       "      <td>Milan</td>\n",
       "      <td>Milan</td>\n",
       "      <td>45.5</td>\n",
       "      <td>9.2</td>\n",
       "      <td>Italy</td>\n",
       "      <td>IT</td>\n",
       "      <td>ITA</td>\n",
       "      <td>Lombardia</td>\n",
       "      <td>admin</td>\n",
       "      <td>1366180</td>\n",
       "      <td>1380724377</td>\n",
       "      <td>44.9</td>\n",
       "      <td>46.2</td>\n",
       "      <td>8.6</td>\n",
       "      <td>10.8</td>\n",
       "    </tr>\n",
       "    <tr>\n",
       "      <th>2</th>\n",
       "      <td>Naples</td>\n",
       "      <td>Naples</td>\n",
       "      <td>40.8</td>\n",
       "      <td>14.2</td>\n",
       "      <td>Italy</td>\n",
       "      <td>IT</td>\n",
       "      <td>ITA</td>\n",
       "      <td>Campania</td>\n",
       "      <td>admin</td>\n",
       "      <td>966144</td>\n",
       "      <td>1380646673</td>\n",
       "      <td>40.3</td>\n",
       "      <td>41.2</td>\n",
       "      <td>13.8</td>\n",
       "      <td>15.6</td>\n",
       "    </tr>\n",
       "    <tr>\n",
       "      <th>3</th>\n",
       "      <td>Turin</td>\n",
       "      <td>Turin</td>\n",
       "      <td>45.1</td>\n",
       "      <td>7.7</td>\n",
       "      <td>Italy</td>\n",
       "      <td>IT</td>\n",
       "      <td>ITA</td>\n",
       "      <td>Piemonte</td>\n",
       "      <td>admin</td>\n",
       "      <td>870952</td>\n",
       "      <td>1380244627</td>\n",
       "      <td>44.3</td>\n",
       "      <td>46.1</td>\n",
       "      <td>6.6</td>\n",
       "      <td>8.9</td>\n",
       "    </tr>\n",
       "    <tr>\n",
       "      <th>4</th>\n",
       "      <td>Palermo</td>\n",
       "      <td>Palermo</td>\n",
       "      <td>38.1</td>\n",
       "      <td>13.4</td>\n",
       "      <td>Italy</td>\n",
       "      <td>IT</td>\n",
       "      <td>ITA</td>\n",
       "      <td>Sicilia</td>\n",
       "      <td>admin</td>\n",
       "      <td>668405</td>\n",
       "      <td>1380428434</td>\n",
       "      <td>36.7</td>\n",
       "      <td>38.8</td>\n",
       "      <td>12.4</td>\n",
       "      <td>15.6</td>\n",
       "    </tr>\n",
       "  </tbody>\n",
       "</table>\n",
       "</div>"
      ],
      "text/plain": [
       "      city city_ascii  lat  lng country iso2 iso3 admin_name  capital  \\\n",
       "0     Rome       Rome 41.9 12.5   Italy   IT  ITA      Lazio  primary   \n",
       "1    Milan      Milan 45.5  9.2   Italy   IT  ITA  Lombardia    admin   \n",
       "2   Naples     Naples 40.8 14.2   Italy   IT  ITA   Campania    admin   \n",
       "3    Turin      Turin 45.1  7.7   Italy   IT  ITA   Piemonte    admin   \n",
       "4  Palermo    Palermo 38.1 13.4   Italy   IT  ITA    Sicilia    admin   \n",
       "\n",
       "   population          id  latmin  latmax  logmin  logmax  \n",
       "0     2872800  1380382862    41.2    42.5    11.6    13.8  \n",
       "1     1366180  1380724377    44.9    46.2     8.6    10.8  \n",
       "2      966144  1380646673    40.3    41.2    13.8    15.6  \n",
       "3      870952  1380244627    44.3    46.1     6.6     8.9  \n",
       "4      668405  1380428434    36.7    38.8    12.4    15.6  "
      ]
     },
     "execution_count": 7,
     "metadata": {},
     "output_type": "execute_result"
    }
   ],
   "source": [
    "Italy_df = pd.read_excel('worldcities.xlsx', sheet_name='Italy2')\n",
    "Italy_df.head()"
   ]
  },
  {
   "cell_type": "markdown",
   "metadata": {},
   "source": [
    "# 3. Data Cleaning"
   ]
  },
  {
   "cell_type": "markdown",
   "metadata": {},
   "source": [
    "## 3.1. Location"
   ]
  },
  {
   "cell_type": "code",
   "execution_count": 8,
   "metadata": {},
   "outputs": [],
   "source": [
    "# create a boolean mask based on latitude and longitude range for Italy\n",
    "italy_lat_range = (35.5, 47.1)\n",
    "italy_lon_range = (6.6, 18.5)\n",
    "mask = (df['latitude'].between(*italy_lat_range)) & (df['longitude'].between(*italy_lon_range))\n",
    "df = df[mask]"
   ]
  },
  {
   "cell_type": "markdown",
   "metadata": {},
   "source": [
    "### 3.1.1. Add Italy regions"
   ]
  },
  {
   "cell_type": "code",
   "execution_count": 9,
   "metadata": {},
   "outputs": [],
   "source": [
    "regions = Italy_df[['admin_name','latmin', 'latmax', 'logmin', 'logmax']]\n",
    "regions = regions.drop_duplicates()"
   ]
  },
  {
   "cell_type": "code",
   "execution_count": 10,
   "metadata": {},
   "outputs": [],
   "source": [
    "# Iterate over the coordinates in your original DataFrame\n",
    "for index, row in df.iterrows():\n",
    "    lat = row['latitude']\n",
    "    lon = row['longitude']\n",
    "\n",
    "    # Find the region that matches the coordinate range\n",
    "    matching_region = regions[\n",
    "        (regions['latmin'] <= lat) &\n",
    "        (regions['latmax'] >= lat) &\n",
    "        (regions['logmin'] <= lon) &\n",
    "        (regions['logmax'] >= lon)\n",
    "    ]['admin_name']\n",
    "    \n",
    "   # Check if matching_region has any elements\n",
    "    if not matching_region.empty:\n",
    "        # Get the first element of matching_region as a string\n",
    "        matching_region = matching_region.iloc[0]\n",
    "    else:\n",
    "        matching_region = 'Unknown'  # or any other desired value when no match is found\n",
    "        \n",
    "    # Assign the region to a new column in your original DataFrame\n",
    "    df.at[index, 'Region'] = matching_region"
   ]
  },
  {
   "cell_type": "code",
   "execution_count": 11,
   "metadata": {},
   "outputs": [
    {
     "data": {
      "text/plain": [
       "Lazio             45061\n",
       "Piemonte          32948\n",
       "Lombardia         31911\n",
       "Sicilia           17374\n",
       "Veneto            16643\n",
       "Toscana           14515\n",
       "Sardegna          11878\n",
       "Campania          11874\n",
       "Emilia-Romagna    10747\n",
       "Calabria          10577\n",
       "Liguria            8792\n",
       "Puglia             8424\n",
       "Abruzzo            2972\n",
       "Name: Region, dtype: int64"
      ]
     },
     "execution_count": 11,
     "metadata": {},
     "output_type": "execute_result"
    }
   ],
   "source": [
    "# check there are no unknown regions\n",
    "df['Region'].value_counts()"
   ]
  },
  {
   "cell_type": "markdown",
   "metadata": {},
   "source": [
    "## 3.2. Price per m^2"
   ]
  },
  {
   "cell_type": "markdown",
   "metadata": {},
   "source": [
    "### 3.2.1. Normalize Surface"
   ]
  },
  {
   "cell_type": "code",
   "execution_count": 12,
   "metadata": {},
   "outputs": [],
   "source": [
    "# Split of Surface from surface including commercial\n",
    "df.loc[:, 'surface_res'] = df.surface.str.split(pat='m²', expand=True)[0]"
   ]
  },
  {
   "cell_type": "code",
   "execution_count": 13,
   "metadata": {},
   "outputs": [],
   "source": [
    "df['surface_res']= df['surface_res'].str.strip()"
   ]
  },
  {
   "cell_type": "code",
   "execution_count": 14,
   "metadata": {},
   "outputs": [],
   "source": [
    "# Replace commerciale with none\n",
    "df.loc[df['surface_res'].str.contains('commerciale'), 'surface_res'] = None"
   ]
  },
  {
   "cell_type": "code",
   "execution_count": 15,
   "metadata": {},
   "outputs": [],
   "source": [
    "df['surface_res'] = df['surface_res'].str.replace('.', \"\", regex=False)"
   ]
  },
  {
   "cell_type": "code",
   "execution_count": 16,
   "metadata": {},
   "outputs": [],
   "source": [
    "df = df.astype({'surface_res':'float'})"
   ]
  },
  {
   "cell_type": "code",
   "execution_count": 17,
   "metadata": {},
   "outputs": [],
   "source": [
    "# Normalize Commercial surface\n",
    "df.loc[:, 'surface_comm'] = df.surface.str.split(pat='commerciale', expand=True)[1]"
   ]
  },
  {
   "cell_type": "code",
   "execution_count": 18,
   "metadata": {},
   "outputs": [],
   "source": [
    "df['surface_comm']= df['surface_comm'].str.replace(' m²',\"\")"
   ]
  },
  {
   "cell_type": "code",
   "execution_count": 19,
   "metadata": {},
   "outputs": [],
   "source": [
    "#Remove . from numbers \n",
    "for index, row in df.iterrows():\n",
    "    if row[\"surface_comm\"] is not None and \".\" in row[\"surface_comm\"]:\n",
    "        df.at[index, \"surface_comm\"] = row[\"surface_comm\"].replace(\".\", \"\")"
   ]
  },
  {
   "cell_type": "code",
   "execution_count": 20,
   "metadata": {},
   "outputs": [],
   "source": [
    "#Replace , with .  from numbers for US notation\n",
    "for index, row in df.iterrows():\n",
    "    if row[\"surface_comm\"] is not None and \",\" in row[\"surface_comm\"]:\n",
    "        df.at[index, \"surface_comm\"] = row[\"surface_comm\"].replace(\",\", \".\")"
   ]
  },
  {
   "cell_type": "code",
   "execution_count": 21,
   "metadata": {},
   "outputs": [],
   "source": [
    "df = df.astype({'surface_comm':'float'})"
   ]
  },
  {
   "cell_type": "markdown",
   "metadata": {},
   "source": [
    "### Normalize price, surface, Latitude, longitud exclude 0 or negatives"
   ]
  },
  {
   "cell_type": "markdown",
   "metadata": {},
   "source": [
    "### Surface > 20 m^2 per Intrum feedback"
   ]
  },
  {
   "cell_type": "code",
   "execution_count": 22,
   "metadata": {},
   "outputs": [],
   "source": [
    "df = df[(df['price'] > 0) & df['price'].notna()]\n",
    "df = df[(df['surface_res'] >= 20) & df['surface_res'].notna()]\n",
    "df = df[(df['latitude'] > 0) & df['latitude'].notna()]\n",
    "df = df[(df['longitude'] > 0) & df['longitude'].notna()]"
   ]
  },
  {
   "cell_type": "markdown",
   "metadata": {},
   "source": [
    "### ADD Price per square meter"
   ]
  },
  {
   "cell_type": "code",
   "execution_count": 23,
   "metadata": {},
   "outputs": [],
   "source": [
    "df['price_per_m2'] = df.apply(lambda x: x['price'] / x['surface_res'] if x['surface_res'] else 0, axis=1)"
   ]
  },
  {
   "cell_type": "markdown",
   "metadata": {},
   "source": [
    "### IQR calculation for price per m2"
   ]
  },
  {
   "cell_type": "code",
   "execution_count": 24,
   "metadata": {},
   "outputs": [
    {
     "name": "stdout",
     "output_type": "stream",
     "text": [
      "                 Mean  Quantile 25  Quantile 75    IQR  Upper Limit  \\\n",
      "Region                                                                \n",
      "Lombardia      3297.4       1789.5       4200.0 2410.5       7815.8   \n",
      "Toscana        3211.1       2048.0       4100.0 2052.0       7178.0   \n",
      "Liguria        2389.5       1028.3       3084.1 2055.8       6167.8   \n",
      "Lazio          2731.5       1672.6       3400.0 1727.4       5991.0   \n",
      "Emilia-Romagna 2222.9       1254.5       2980.0 1725.5       5568.3   \n",
      "Sardegna       2243.0       1055.7       2785.7 1730.0       5380.7   \n",
      "Campania       2337.7       1307.7       2829.4 1521.7       5112.0   \n",
      "Veneto         1679.3       1037.0       2142.9 1105.8       3801.6   \n",
      "Piemonte       1549.6        914.9       1988.9 1074.0       3599.9   \n",
      "Puglia         1572.4        982.9       1982.8  999.9       3482.5   \n",
      "Abruzzo        1386.8        868.6       1792.5  923.9       3178.3   \n",
      "Sicilia        1214.9        768.3       1513.3  745.0       2630.8   \n",
      "Calabria        920.1        600.0       1130.6  530.6       1926.4   \n",
      "\n",
      "                Max Price*m2  \n",
      "Region                        \n",
      "Lombardia            35156.2  \n",
      "Toscana              40000.0  \n",
      "Liguria              23000.0  \n",
      "Lazio                33571.4  \n",
      "Emilia-Romagna       10000.0  \n",
      "Sardegna             24000.0  \n",
      "Campania             29166.7  \n",
      "Veneto               10000.0  \n",
      "Piemonte             11363.6  \n",
      "Puglia                8571.4  \n",
      "Abruzzo               7142.9  \n",
      "Sicilia              60000.0  \n",
      "Calabria              7230.8  \n"
     ]
    }
   ],
   "source": [
    "# Import the necessary libraries\n",
    "import pandas as pd\n",
    "\n",
    "# Groupby and calculate mean\n",
    "regions_list = df.groupby(by=['Region'])['price_per_m2'].mean()\n",
    "\n",
    "# Calculate additional statistics\n",
    "quantiles_25 = df.groupby(by=['Region'])['price_per_m2'].quantile(0.25)\n",
    "quantiles_75 = df.groupby(by=['Region'])['price_per_m2'].quantile(0.75)\n",
    "iqr = quantiles_75 - quantiles_25\n",
    "upper_limit = quantiles_75 + 1.5 * iqr\n",
    "max_price = df.groupby(by=['Region'])['price_per_m2'].max()\n",
    "\n",
    "# Create a new DataFrame\n",
    "statistics_df = pd.DataFrame({\n",
    "    'Mean': regions_list,\n",
    "    'Quantile 25': quantiles_25,\n",
    "    'Quantile 75': quantiles_75,\n",
    "    'IQR': iqr,\n",
    "    'Upper Limit': upper_limit,\n",
    "    'Max Price*m2': max_price,\n",
    "}).sort_values(by='Upper Limit', ascending=False)  # Sort by 'Upper Limit' column in descending order\n",
    "\n",
    "# Display the new DataFrame\n",
    "print(statistics_df)"
   ]
  },
  {
   "cell_type": "code",
   "execution_count": 25,
   "metadata": {},
   "outputs": [
    {
     "data": {
      "text/plain": [
       "Mean            3297.4\n",
       "Quantile 25     1789.5\n",
       "Quantile 75     4200.0\n",
       "IQR             2410.5\n",
       "Upper Limit     7815.8\n",
       "Max Price*m2   35156.2\n",
       "Name: Lombardia, dtype: float64"
      ]
     },
     "execution_count": 25,
     "metadata": {},
     "output_type": "execute_result"
    }
   ],
   "source": [
    "statistics_df.loc[statistics_df['IQR'].idxmax()]"
   ]
  },
  {
   "cell_type": "markdown",
   "metadata": {},
   "source": [
    "### IQR calculation for surface"
   ]
  },
  {
   "cell_type": "code",
   "execution_count": 26,
   "metadata": {},
   "outputs": [
    {
     "name": "stdout",
     "output_type": "stream",
     "text": [
      "                Mean  Quantile 25  Quantile 75   IQR  Upper Limit  Max surface\n",
      "Region                                                                        \n",
      "Abruzzo        555.6         89.5        180.0  90.5        315.8     800000.0\n",
      "Calabria       211.3         80.0        160.0  80.0        280.0     120039.0\n",
      "Campania       164.3         80.0        146.0  66.0        245.0     120000.0\n",
      "Emilia-Romagna 274.5         80.0        170.0  90.0        305.0     500000.0\n",
      "Lazio          166.9         70.0        138.0  68.0        240.0     710000.0\n",
      "Liguria        128.3         70.0        129.0  59.0        217.5      50000.0\n",
      "Lombardia      185.5         70.0        135.0  65.0        232.5    1250000.0\n",
      "Piemonte       177.3         70.0        144.0  74.0        255.0     295000.0\n",
      "Puglia         191.6         80.0        147.0  67.0        247.5      80400.0\n",
      "Sardegna       428.9         70.0        160.0  90.0        295.0    1500000.0\n",
      "Sicilia        238.7         90.0        160.0  70.0        265.0     198000.0\n",
      "Toscana        400.3         75.0        170.0  95.0        312.5     962045.0\n",
      "Veneto         247.1        107.0        212.0 105.0        369.5     160000.0\n"
     ]
    }
   ],
   "source": [
    "# Groupby and calculate mean\n",
    "regions_list = df.groupby(by=['Region'])['surface_res'].mean()\n",
    "\n",
    "# Calculate additional statistics\n",
    "quantiles_25 = df.groupby(by=['Region'])['surface_res'].quantile(0.25)\n",
    "quantiles_75 = df.groupby(by=['Region'])['surface_res'].quantile(0.75)\n",
    "iqr = quantiles_75 - quantiles_25\n",
    "upper_limit = quantiles_75 + 1.5 * iqr\n",
    "max_surface = df.groupby(by=['Region'])['surface_res'].max()\n",
    "\n",
    "# Create a new DataFrame\n",
    "statistics2_df = pd.DataFrame({\n",
    "    'Mean': regions_list,\n",
    "    'Quantile 25': quantiles_25,\n",
    "    'Quantile 75': quantiles_75,\n",
    "    'IQR': iqr,\n",
    "    'Upper Limit': upper_limit,\n",
    "    'Max surface': max_surface,\n",
    "})\n",
    "\n",
    "# Display the new DataFrame\n",
    "print(statistics2_df)"
   ]
  },
  {
   "cell_type": "code",
   "execution_count": 27,
   "metadata": {},
   "outputs": [
    {
     "data": {
      "text/plain": [
       "Mean             247.1\n",
       "Quantile 25      107.0\n",
       "Quantile 75      212.0\n",
       "IQR              105.0\n",
       "Upper Limit      369.5\n",
       "Max surface   160000.0\n",
       "Name: Veneto, dtype: float64"
      ]
     },
     "execution_count": 27,
     "metadata": {},
     "output_type": "execute_result"
    }
   ],
   "source": [
    "statistics2_df.loc[statistics2_df['IQR'].idxmax()]"
   ]
  },
  {
   "cell_type": "markdown",
   "metadata": {},
   "source": [
    "### Adjust price per m2 and surface to upper limits And create a new dataframe\n",
    "$100 price per m^2 per company feedback"
   ]
  },
  {
   "cell_type": "code",
   "execution_count": 29,
   "metadata": {},
   "outputs": [],
   "source": [
    "df_new = df[(df['price_per_m2'] >= 100) & (df['price_per_m2'] <= 7822)] \n",
    "df_new = df_new[(df_new['surface_res'] >= 20) & (df_new['surface_res'] <= 1000)]"
   ]
  },
  {
   "cell_type": "markdown",
   "metadata": {},
   "source": [
    "## 3.3. Floors"
   ]
  },
  {
   "cell_type": "code",
   "execution_count": 30,
   "metadata": {},
   "outputs": [
    {
     "name": "stdout",
     "output_type": "stream",
     "text": [
      "                Mean  Quantile 25  Quantile 75  IQR  Upper Limit  Max Floors\n",
      "Region                                                                      \n",
      "Abruzzo          3.5          2.0          4.0  2.0          7.0       160.0\n",
      "Calabria         3.3          2.0          4.0  2.0          7.0       300.0\n",
      "Campania         3.7          2.0          5.0  3.0          9.5       330.0\n",
      "Emilia-Romagna   3.0          2.0          3.0  1.0          4.5        55.0\n",
      "Lazio            3.8          2.0          5.0  3.0          9.5       400.0\n",
      "Liguria          4.4          3.0          6.0  3.0         10.5        31.0\n",
      "Lombardia        4.0          2.0          5.0  3.0          9.5       130.0\n",
      "Piemonte         3.8          2.0          5.0  3.0          9.5       850.0\n",
      "Puglia           3.3          2.0          4.0  2.0          7.0       150.0\n",
      "Sardegna         2.5          1.0          3.0  2.0          6.0       200.0\n",
      "Sicilia          3.5          2.0          4.0  2.0          7.0       220.0\n",
      "Toscana          2.9          2.0          3.0  1.0          4.5       219.0\n",
      "Veneto           2.5          2.0          3.0  1.0          4.5       353.0\n"
     ]
    }
   ],
   "source": [
    "# Groupby and calculate mean\n",
    "regions_list = df_new.groupby(by=['Region'])['total_building_floors'].mean()\n",
    "\n",
    "# Calculate additional statistics\n",
    "quantiles_25 = df_new.groupby(by=['Region'])['total_building_floors'].quantile(0.25)\n",
    "quantiles_75 = df_new.groupby(by=['Region'])['total_building_floors'].quantile(0.75)\n",
    "iqr = quantiles_75 - quantiles_25\n",
    "upper_limit = quantiles_75 + 1.5 * iqr\n",
    "max_surface = df_new.groupby(by=['Region'])['total_building_floors'].max()\n",
    "\n",
    "# Create a new DataFrame\n",
    "statistics3_df = pd.DataFrame({\n",
    "    'Mean': regions_list,\n",
    "    'Quantile 25': quantiles_25,\n",
    "    'Quantile 75': quantiles_75,\n",
    "    'IQR': iqr,\n",
    "    'Upper Limit': upper_limit,\n",
    "    'Max Floors': max_surface,\n",
    "})\n",
    "\n",
    "# Display the new DataFrame\n",
    "print(statistics3_df)"
   ]
  },
  {
   "cell_type": "code",
   "execution_count": 31,
   "metadata": {},
   "outputs": [
    {
     "data": {
      "text/plain": [
       "Mean           4.4\n",
       "Quantile 25    3.0\n",
       "Quantile 75    6.0\n",
       "IQR            3.0\n",
       "Upper Limit   10.5\n",
       "Max Floors    31.0\n",
       "Name: Liguria, dtype: float64"
      ]
     },
     "execution_count": 31,
     "metadata": {},
     "output_type": "execute_result"
    }
   ],
   "source": [
    "statistics3_df.loc[statistics3_df['Upper Limit'].idxmax()]"
   ]
  },
  {
   "cell_type": "markdown",
   "metadata": {},
   "source": [
    "### Given these results, we will exclude properites with more than 10 floors"
   ]
  },
  {
   "cell_type": "code",
   "execution_count": 32,
   "metadata": {},
   "outputs": [],
   "source": [
    "df_new = df_new[(df_new['total_building_floors'] >= 0) & (df_new['total_building_floors'] <= 10)]"
   ]
  },
  {
   "cell_type": "markdown",
   "metadata": {},
   "source": [
    "## 3.4 Construction Year"
   ]
  },
  {
   "cell_type": "markdown",
   "metadata": {},
   "source": [
    "Apply Median to missing values"
   ]
  },
  {
   "cell_type": "code",
   "execution_count": 33,
   "metadata": {},
   "outputs": [
    {
     "data": {
      "text/plain": [
       "Region\n",
       "Abruzzo          1981.0\n",
       "Calabria         1980.0\n",
       "Campania         1967.0\n",
       "Emilia-Romagna   1978.0\n",
       "Lazio            1975.0\n",
       "Liguria          1960.0\n",
       "Lombardia        1970.0\n",
       "Piemonte         1968.0\n",
       "Puglia           1970.0\n",
       "Sardegna         1991.0\n",
       "Sicilia          1975.0\n",
       "Toscana          1960.0\n",
       "Veneto           2000.0\n",
       "Name: construction_year, dtype: float64"
      ]
     },
     "execution_count": 33,
     "metadata": {},
     "output_type": "execute_result"
    }
   ],
   "source": [
    "median_by_region = df_new.groupby(by=['Region'])['construction_year'].median()\n",
    "median_by_region"
   ]
  },
  {
   "cell_type": "code",
   "execution_count": 34,
   "metadata": {},
   "outputs": [],
   "source": [
    "#Replace NaNs with median values\n",
    "df_new['construction_year'] = df_new.groupby('Region')['construction_year'].transform(lambda x: x.fillna(x.median()))"
   ]
  },
  {
   "cell_type": "code",
   "execution_count": 35,
   "metadata": {},
   "outputs": [],
   "source": [
    "# Replace construction year > 2023 with median\n",
    "const_yr = [2024, 2025, 2033, 2089, 2100, 7080, 9999]\n",
    "for i in const_yr:\n",
    "    df_new.loc[df_new['construction_year']==i, 'construction_year'] = df_new.groupby('Region')['construction_year'].transform(lambda x: x.replace(i, x.median()))"
   ]
  },
  {
   "cell_type": "markdown",
   "metadata": {},
   "source": [
    "## 3.5 Categorical variables"
   ]
  },
  {
   "cell_type": "markdown",
   "metadata": {},
   "source": [
    "### 3.5.1 Heating"
   ]
  },
  {
   "cell_type": "code",
   "execution_count": 36,
   "metadata": {},
   "outputs": [
    {
     "data": {
      "text/plain": [
       "Autonomo         124172\n",
       "Centralizzato     43250\n",
       "None              27198\n",
       "Name: heating, dtype: int64"
      ]
     },
     "execution_count": 36,
     "metadata": {},
     "output_type": "execute_result"
    }
   ],
   "source": [
    "# Heating variable\n",
    "## count of heating types including NaNs\n",
    "df_new['heating'].value_counts(dropna=False)"
   ]
  },
  {
   "cell_type": "code",
   "execution_count": 37,
   "metadata": {},
   "outputs": [],
   "source": [
    "# Create a new columns to label the NaNs as no heating and the others a heating\n",
    "df_new['Heating_Adj'] = np.where(df_new['heating'].isnull(), 'No heating', 'heating')"
   ]
  },
  {
   "cell_type": "markdown",
   "metadata": {},
   "source": [
    "### 3.5.2 Air Conditioning"
   ]
  },
  {
   "cell_type": "code",
   "execution_count": 38,
   "metadata": {},
   "outputs": [],
   "source": [
    "# Create a new columns to label the NaNs as no Air Conditioning and the others as Air Conditioning\n",
    "df_new['Air_Conditioning_Adj'] = np.where(df_new['air_conditioning'].isnull(), 'No AC', df_new['air_conditioning'] )"
   ]
  },
  {
   "cell_type": "code",
   "execution_count": 39,
   "metadata": {},
   "outputs": [],
   "source": [
    "## Change Air conditioning  that starts with  Predisposi on the name to Ready for AC\n",
    "df_new['Air_Conditioning_Adj'] = np.where(df_new['Air_Conditioning_Adj'].str.contains('Predisposi'), 'Ready for AC', df_new['Air_Conditioning_Adj'] )"
   ]
  },
  {
   "cell_type": "code",
   "execution_count": 40,
   "metadata": {},
   "outputs": [],
   "source": [
    "## Change Air conditioning  does not cointain No AC or Ready for AC to AC\n",
    "df_new['Air_Conditioning_Adj'] = np.where(~df_new['Air_Conditioning_Adj'].str.contains('No AC|Ready for AC'), 'AC', df_new['Air_Conditioning_Adj'] )"
   ]
  },
  {
   "cell_type": "code",
   "execution_count": 41,
   "metadata": {},
   "outputs": [
    {
     "data": {
      "text/html": [
       "<div>\n",
       "<style scoped>\n",
       "    .dataframe tbody tr th:only-of-type {\n",
       "        vertical-align: middle;\n",
       "    }\n",
       "\n",
       "    .dataframe tbody tr th {\n",
       "        vertical-align: top;\n",
       "    }\n",
       "\n",
       "    .dataframe thead th {\n",
       "        text-align: right;\n",
       "    }\n",
       "</style>\n",
       "<table border=\"1\" class=\"dataframe\">\n",
       "  <thead>\n",
       "    <tr style=\"text-align: right;\">\n",
       "      <th></th>\n",
       "      <th>count</th>\n",
       "      <th>mean</th>\n",
       "    </tr>\n",
       "    <tr>\n",
       "      <th>Air_Conditioning_Adj</th>\n",
       "      <th></th>\n",
       "      <th></th>\n",
       "    </tr>\n",
       "  </thead>\n",
       "  <tbody>\n",
       "    <tr>\n",
       "      <th>AC</th>\n",
       "      <td>78155</td>\n",
       "      <td>2613.9</td>\n",
       "    </tr>\n",
       "    <tr>\n",
       "      <th>No AC</th>\n",
       "      <td>104184</td>\n",
       "      <td>1821.1</td>\n",
       "    </tr>\n",
       "    <tr>\n",
       "      <th>Ready for AC</th>\n",
       "      <td>12281</td>\n",
       "      <td>2619.2</td>\n",
       "    </tr>\n",
       "  </tbody>\n",
       "</table>\n",
       "</div>"
      ],
      "text/plain": [
       "                       count   mean\n",
       "Air_Conditioning_Adj               \n",
       "AC                     78155 2613.9\n",
       "No AC                 104184 1821.1\n",
       "Ready for AC           12281 2619.2"
      ]
     },
     "execution_count": 41,
     "metadata": {},
     "output_type": "execute_result"
    }
   ],
   "source": [
    "df_new.groupby('Air_Conditioning_Adj')['price_per_m2'].agg(['count', 'mean'], dropna=False)"
   ]
  },
  {
   "cell_type": "markdown",
   "metadata": {},
   "source": [
    "### 3.5.3 Status"
   ]
  },
  {
   "cell_type": "code",
   "execution_count": 43,
   "metadata": {},
   "outputs": [],
   "source": [
    "# Create a new columns to label the NaNs as Unknown and the others initiatially as status\n",
    "df_new['Condition'] = np.where(df_new['status'].isnull(), 'Unknown', df_new['status'] )\n",
    "# Change Excellent condition / Renovated to renovated\n",
    "df_new['Condition'] = np.where(df_new['Condition'] == 'Excellent condition / Renovated', 'Renovated', df_new['Condition'] )\n",
    "# Change Good condition / Habitable to Habitable\n",
    "df_new['Condition'] = np.where(df_new['Condition'] == 'Good condition / Habitable', 'Habitable', df_new['Condition'] )\n",
    "# Change New /WIP to New\n",
    "df_new['Condition'] = np.where(df_new['Condition'] == 'New / WIP', 'New', df_new['Condition'] )"
   ]
  },
  {
   "cell_type": "markdown",
   "metadata": {},
   "source": [
    "### 3.5.4 Rooms"
   ]
  },
  {
   "cell_type": "code",
   "execution_count": 44,
   "metadata": {},
   "outputs": [],
   "source": [
    "# Change room 5+ to 6\n",
    "df_new['room_Adj'] = np.where(df_new['room'] == '5+', '6', df_new['room'] )"
   ]
  },
  {
   "cell_type": "code",
   "execution_count": 45,
   "metadata": {},
   "outputs": [],
   "source": [
    "# convert room to numeric\n",
    "df_new['room_Adj'] = df_new['room_Adj'].astype('int64')"
   ]
  },
  {
   "cell_type": "code",
   "execution_count": 46,
   "metadata": {},
   "outputs": [],
   "source": [
    "# Get the median of the room by region and typology and replace the -1 with the median no decimalsby region and typology otherwise keep the room\n",
    "df_new['room_Adj'] = np.where(df_new['room_Adj'] == -1, df_new.groupby(['Region', 'typology'])['room_Adj'].transform('median').round(0), df_new['room_Adj'] )"
   ]
  },
  {
   "cell_type": "code",
   "execution_count": 47,
   "metadata": {},
   "outputs": [],
   "source": [
    "# Drop records where room_new is -1\n",
    "df_new = df_new[df_new['room_Adj'] != -1]"
   ]
  },
  {
   "cell_type": "code",
   "execution_count": 48,
   "metadata": {},
   "outputs": [],
   "source": [
    "# Change room from float to object\n",
    "df_new['room_Adj'] = df_new['room_Adj'].astype(str).apply(lambda x: x.rstrip('.0'))"
   ]
  },
  {
   "cell_type": "code",
   "execution_count": 49,
   "metadata": {},
   "outputs": [],
   "source": [
    "# Change back from room 6 to 5+\n",
    "df_new.loc[df_new['room_Adj'] == '6', 'room_Adj'] = '5+'"
   ]
  },
  {
   "cell_type": "markdown",
   "metadata": {},
   "source": [
    "### 3.5.5 Property class"
   ]
  },
  {
   "cell_type": "code",
   "execution_count": 50,
   "metadata": {},
   "outputs": [],
   "source": [
    "# Create a new columns to label the NaNs as Unknown and the others initiatially as property class\n",
    "df_new['Property_Class'] = np.where(df_new['property_class'].isnull(), 'Unknown', df_new['status'] )\n",
    "# Change Excellent condition / Renovated to renovated\n",
    "df_new['Property_Class'] = np.where(df_new['property_class'] == 'Mid-range properties', 'Mid-range', df_new['Property_Class'] )\n",
    "# Change Good condition / Habitable to Habitable\n",
    "df_new['Property_Class'] = np.where(df_new['property_class'] == 'Luxury properties', 'Luxury', df_new['Property_Class'] )\n",
    "# Change New /WIP to New\n",
    "df_new['Property_Class'] = np.where(df_new['property_class'] == 'Affordable properties', 'Affordable', df_new['Property_Class'] )"
   ]
  },
  {
   "cell_type": "markdown",
   "metadata": {},
   "source": [
    "### 3.5.6 Bathrooms"
   ]
  },
  {
   "cell_type": "code",
   "execution_count": 51,
   "metadata": {},
   "outputs": [],
   "source": [
    "# Change bathroom 3+ to 4\n",
    "df_new['bathroom_Adj'] = np.where(df_new['bathroom'] == '3+', '4', df_new['bathroom'] )"
   ]
  },
  {
   "cell_type": "code",
   "execution_count": 52,
   "metadata": {},
   "outputs": [],
   "source": [
    "# convert bathroom to numeric\n",
    "df_new['bathroom_Adj'] = df_new['bathroom_Adj'].astype('int64')"
   ]
  },
  {
   "cell_type": "code",
   "execution_count": 53,
   "metadata": {},
   "outputs": [],
   "source": [
    "# Get the median of the room by region and typology and replace the -1 with the median no decimalsby region and typology otherwise keep the room\n",
    "df_new['bathroom_Adj'] = np.where(df_new['bathroom_Adj'] == -1, df_new.groupby(['Region', 'typology'])['bathroom_Adj'].transform('median').round(0), df_new['bathroom_Adj'] )"
   ]
  },
  {
   "cell_type": "code",
   "execution_count": 54,
   "metadata": {},
   "outputs": [
    {
     "data": {
      "text/html": [
       "<div>\n",
       "<style scoped>\n",
       "    .dataframe tbody tr th:only-of-type {\n",
       "        vertical-align: middle;\n",
       "    }\n",
       "\n",
       "    .dataframe tbody tr th {\n",
       "        vertical-align: top;\n",
       "    }\n",
       "\n",
       "    .dataframe thead th {\n",
       "        text-align: right;\n",
       "    }\n",
       "</style>\n",
       "<table border=\"1\" class=\"dataframe\">\n",
       "  <thead>\n",
       "    <tr style=\"text-align: right;\">\n",
       "      <th></th>\n",
       "      <th>count</th>\n",
       "      <th>median</th>\n",
       "    </tr>\n",
       "    <tr>\n",
       "      <th>typology</th>\n",
       "      <th></th>\n",
       "      <th></th>\n",
       "    </tr>\n",
       "  </thead>\n",
       "  <tbody>\n",
       "    <tr>\n",
       "      <th>Chalet</th>\n",
       "      <td>1</td>\n",
       "      <td>-1.0</td>\n",
       "    </tr>\n",
       "    <tr>\n",
       "      <th>Residential land</th>\n",
       "      <td>1</td>\n",
       "      <td>-1.0</td>\n",
       "    </tr>\n",
       "  </tbody>\n",
       "</table>\n",
       "</div>"
      ],
      "text/plain": [
       "                  count  median\n",
       "typology                       \n",
       "Chalet                1    -1.0\n",
       "Residential land      1    -1.0"
      ]
     },
     "execution_count": 54,
     "metadata": {},
     "output_type": "execute_result"
    }
   ],
   "source": [
    "# Get count by typology and room where room is -1\n",
    "df_new[df_new['bathroom_Adj'] == -1].groupby('typology')['bathroom_Adj'].agg(['count', 'median'], dropna=False)"
   ]
  },
  {
   "cell_type": "code",
   "execution_count": 55,
   "metadata": {},
   "outputs": [],
   "source": [
    "# drop the records where bathroom is -1\n",
    "df_new = df_new[df_new['bathroom_Adj'] != -1]"
   ]
  },
  {
   "cell_type": "code",
   "execution_count": 56,
   "metadata": {},
   "outputs": [],
   "source": [
    "# Change room from float to object\n",
    "#df_new['bathroom_new'] = df_new['bathroom_new'].astype(str)\n",
    "df_new['bathroom_Adj'] = df_new['bathroom_Adj'].astype(str).apply(lambda x: x.rstrip('.0'))\n",
    "\n",
    "# Change back from room 6 to 5+ \n",
    "df_new['bathroom_Adj'] = np.where(df_new['bathroom_Adj'] == '4', '3+', df_new['bathroom_Adj'] )"
   ]
  },
  {
   "cell_type": "markdown",
   "metadata": {},
   "source": [
    "### 3.5.7 Energy Efficiency"
   ]
  },
  {
   "cell_type": "code",
   "execution_count": 57,
   "metadata": {},
   "outputs": [],
   "source": [
    "# Create a new column to label the NaNs as Unknown and the others initiatially as Energy Efficiency\n",
    "df_new['energy_efficiency_Adj'] = np.where(df_new['energy_efficiency'].isnull(), 'Unknown', df_new['energy_efficiency'] )\n",
    "df_new['energy_efficiency_Adj'] = df_new['energy_efficiency_Adj'].fillna('Unknown')\n",
    "#df_new['energy_efficiency_Adj'] = np.where(df_new['energy_efficiency_Adj']=='', 'Unknown', df_new['energy_efficiency'] )"
   ]
  },
  {
   "cell_type": "code",
   "execution_count": 58,
   "metadata": {},
   "outputs": [],
   "source": [
    "#Normalize the energy efficiency\n",
    "df_new['energy_efficiency_Adj'] = df_new['energy_efficiency_Adj'].replace(['A+', 'A4≥', 'A+≥', 'A4≥'], 'A4')\n",
    "\n",
    "df_new.loc[df_new['energy_efficiency_Adj'].str.contains('B'), 'energy_efficiency_Adj'] = 'B'\n",
    "df_new.loc[df_new['energy_efficiency_Adj'].str.contains('C'), 'energy_efficiency_Adj'] = 'C'\n",
    "df_new.loc[df_new['energy_efficiency_Adj'].str.contains('D'), 'energy_efficiency_Adj'] = 'D'\n",
    "df_new.loc[df_new['energy_efficiency_Adj'].str.contains('E'), 'energy_efficiency_Adj'] = 'E'\n",
    "df_new.loc[df_new['energy_efficiency_Adj'].str.contains('F'), 'energy_efficiency_Adj'] = 'F'\n",
    "df_new.loc[df_new['energy_efficiency_Adj'].str.contains('G'), 'energy_efficiency_Adj'] = 'G'\n",
    "df_new['energy_efficiency_Adj'] = df_new['energy_efficiency_Adj'].str.replace(',', 'Unknown')"
   ]
  },
  {
   "cell_type": "markdown",
   "metadata": {},
   "source": [
    "A' rating contains sub categories,which in order to ran the analysis we'll merge into one."
   ]
  },
  {
   "cell_type": "code",
   "execution_count": 59,
   "metadata": {},
   "outputs": [],
   "source": [
    "df_new.loc[df_new['energy_efficiency_Adj'].str.contains('A'), 'energy_efficiency_Adj'] = 'A'"
   ]
  },
  {
   "cell_type": "code",
   "execution_count": 60,
   "metadata": {},
   "outputs": [
    {
     "data": {
      "text/plain": [
       "G          82480\n",
       "Unknown    45910\n",
       "F          18353\n",
       "A          17334\n",
       "E          12377\n",
       "D           8592\n",
       "C           4994\n",
       "B           4301\n",
       "Name: energy_efficiency_Adj, dtype: int64"
      ]
     },
     "execution_count": 60,
     "metadata": {},
     "output_type": "execute_result"
    }
   ],
   "source": [
    "df_new['energy_efficiency_Adj'].value_counts(dropna=False)"
   ]
  },
  {
   "cell_type": "markdown",
   "metadata": {},
   "source": [
    "### 3.5.8 Typology"
   ]
  },
  {
   "cell_type": "code",
   "execution_count": 61,
   "metadata": {},
   "outputs": [],
   "source": [
    "# Drop records where typology is Office, Garage, Shop, Agricultural land\n",
    "df_new = df_new[~df_new['typology'].isin(['Office', 'Garage', 'Shop', 'Agricultural land'])]"
   ]
  },
  {
   "cell_type": "code",
   "execution_count": 62,
   "metadata": {},
   "outputs": [
    {
     "data": {
      "text/plain": [
       "Apartment                       138470\n",
       "Single-family villa              14687\n",
       "Single-family terraced house      8917\n",
       "Two-family villa                  6341\n",
       "Row house                         5963\n",
       "Penthouse                         5509\n",
       "Rustic house                      2665\n",
       "Multi-family terraced house       2645\n",
       "Multi-family villa                2241\n",
       "Building                          1647\n",
       "Farmhouse                         1230\n",
       "Attic                             1048\n",
       "Country house                     1002\n",
       "Apartment in villa                 771\n",
       "Loft                               705\n",
       "Open space                         166\n",
       "Trullo                             101\n",
       "Mountain cabin                      94\n",
       "Masseria                            35\n",
       "Vacation apartment                  27\n",
       "Chalet                              20\n",
       "Stone house                         19\n",
       "Villa                                9\n",
       "Refuge                               6\n",
       "Baglio                               5\n",
       "Semi-detached house                  4\n",
       "Maso                                 2\n",
       "Vacation villa                       2\n",
       "Farmhouse or estate                  1\n",
       "Vacation residence                   1\n",
       "Historic residence                   1\n",
       "Nuraghe                              1\n",
       "Name: typology, dtype: int64"
      ]
     },
     "execution_count": 62,
     "metadata": {},
     "output_type": "execute_result"
    }
   ],
   "source": [
    "# typology variable\n",
    "## count of typology including NaNs\n",
    "df_new['typology'].value_counts(dropna=False)"
   ]
  },
  {
   "cell_type": "markdown",
   "metadata": {},
   "source": [
    "### 3.5.9 Category"
   ]
  },
  {
   "cell_type": "code",
   "execution_count": 63,
   "metadata": {},
   "outputs": [
    {
     "data": {
      "text/html": [
       "<div>\n",
       "<style scoped>\n",
       "    .dataframe tbody tr th:only-of-type {\n",
       "        vertical-align: middle;\n",
       "    }\n",
       "\n",
       "    .dataframe tbody tr th {\n",
       "        vertical-align: top;\n",
       "    }\n",
       "\n",
       "    .dataframe thead th {\n",
       "        text-align: right;\n",
       "    }\n",
       "</style>\n",
       "<table border=\"1\" class=\"dataframe\">\n",
       "  <thead>\n",
       "    <tr style=\"text-align: right;\">\n",
       "      <th></th>\n",
       "      <th>count</th>\n",
       "      <th>mean</th>\n",
       "      <th>std</th>\n",
       "      <th>min</th>\n",
       "      <th>25%</th>\n",
       "      <th>50%</th>\n",
       "      <th>75%</th>\n",
       "      <th>max</th>\n",
       "    </tr>\n",
       "    <tr>\n",
       "      <th>category</th>\n",
       "      <th></th>\n",
       "      <th></th>\n",
       "      <th></th>\n",
       "      <th></th>\n",
       "      <th></th>\n",
       "      <th></th>\n",
       "      <th></th>\n",
       "      <th></th>\n",
       "    </tr>\n",
       "  </thead>\n",
       "  <tbody>\n",
       "    <tr>\n",
       "      <th>Building</th>\n",
       "      <td>1639.0</td>\n",
       "      <td>1337.1</td>\n",
       "      <td>1194.9</td>\n",
       "      <td>106.8</td>\n",
       "      <td>600.0</td>\n",
       "      <td>987.5</td>\n",
       "      <td>1568.6</td>\n",
       "      <td>7777.8</td>\n",
       "    </tr>\n",
       "    <tr>\n",
       "      <th>Residential</th>\n",
       "      <td>192696.0</td>\n",
       "      <td>2194.9</td>\n",
       "      <td>1395.7</td>\n",
       "      <td>100.0</td>\n",
       "      <td>1180.9</td>\n",
       "      <td>1870.6</td>\n",
       "      <td>2857.1</td>\n",
       "      <td>7818.2</td>\n",
       "    </tr>\n",
       "  </tbody>\n",
       "</table>\n",
       "</div>"
      ],
      "text/plain": [
       "               count   mean    std   min    25%    50%    75%    max\n",
       "category                                                            \n",
       "Building      1639.0 1337.1 1194.9 106.8  600.0  987.5 1568.6 7777.8\n",
       "Residential 192696.0 2194.9 1395.7 100.0 1180.9 1870.6 2857.1 7818.2"
      ]
     },
     "execution_count": 63,
     "metadata": {},
     "output_type": "execute_result"
    }
   ],
   "source": [
    "df_new.groupby('category')['price_per_m2'].describe()"
   ]
  },
  {
   "cell_type": "code",
   "execution_count": 64,
   "metadata": {},
   "outputs": [],
   "source": [
    "## Exclude Building and New constructions given the ranges of data and also the % of building and commercial is low\n",
    "df_new= df_new[df_new['category'] != 'Building']"
   ]
  },
  {
   "cell_type": "markdown",
   "metadata": {},
   "source": [
    "## 3.6 Drop unnecesary columns"
   ]
  },
  {
   "cell_type": "code",
   "execution_count": 65,
   "metadata": {},
   "outputs": [
    {
     "name": "stdout",
     "output_type": "stream",
     "text": [
      "<class 'pandas.core.frame.DataFrame'>\n",
      "Int64Index: 192696 entries, 0 to 226515\n",
      "Data columns (total 38 columns):\n",
      " #   Column                 Non-Null Count   Dtype  \n",
      "---  ------                 --------------   -----  \n",
      " 0   latitude               192696 non-null  float64\n",
      " 1   longitude              192696 non-null  float64\n",
      " 2   heating                166142 non-null  object \n",
      " 3   air_conditioning       89657 non-null   object \n",
      " 4   surface                192696 non-null  object \n",
      " 5   new_flag               125586 non-null  float64\n",
      " 6   status                 186787 non-null  object \n",
      " 7   caption                192696 non-null  object \n",
      " 8   price                  192696 non-null  int64  \n",
      " 9   room                   192696 non-null  object \n",
      " 10  property_class         151560 non-null  object \n",
      " 11  category               192696 non-null  object \n",
      " 12  total_building_floors  192696 non-null  float64\n",
      " 13  bathroom               192696 non-null  object \n",
      " 14  elevator_flag          192696 non-null  int64  \n",
      " 15  construction_year      192696 non-null  float64\n",
      " 16  title                  192696 non-null  object \n",
      " 17  condominium_fees       149012 non-null  float64\n",
      " 18  ownership              179202 non-null  object \n",
      " 19  other_features         192696 non-null  object \n",
      " 20  energy_efficiency      147698 non-null  object \n",
      " 21  floor_text             192696 non-null  object \n",
      " 22  floor                  180530 non-null  float64\n",
      " 23  typology               192696 non-null  object \n",
      " 24  description            192696 non-null  object \n",
      " 25  visibility             192696 non-null  object \n",
      " 26  main_photo_url         192696 non-null  object \n",
      " 27  Region                 192696 non-null  object \n",
      " 28  surface_res            192696 non-null  float64\n",
      " 29  surface_comm           17111 non-null   float64\n",
      " 30  price_per_m2           192696 non-null  float64\n",
      " 31  Heating_Adj            192696 non-null  object \n",
      " 32  Air_Conditioning_Adj   192696 non-null  object \n",
      " 33  Condition              192696 non-null  object \n",
      " 34  room_Adj               192696 non-null  object \n",
      " 35  Property_Class         192696 non-null  object \n",
      " 36  bathroom_Adj           192696 non-null  object \n",
      " 37  energy_efficiency_Adj  192696 non-null  object \n",
      "dtypes: float64(10), int64(2), object(26)\n",
      "memory usage: 57.3+ MB\n"
     ]
    }
   ],
   "source": [
    "df_new.info()"
   ]
  },
  {
   "cell_type": "code",
   "execution_count": 66,
   "metadata": {},
   "outputs": [
    {
     "data": {
      "text/html": [
       "<div>\n",
       "<style scoped>\n",
       "    .dataframe tbody tr th:only-of-type {\n",
       "        vertical-align: middle;\n",
       "    }\n",
       "\n",
       "    .dataframe tbody tr th {\n",
       "        vertical-align: top;\n",
       "    }\n",
       "\n",
       "    .dataframe thead th {\n",
       "        text-align: right;\n",
       "    }\n",
       "</style>\n",
       "<table border=\"1\" class=\"dataframe\">\n",
       "  <thead>\n",
       "    <tr style=\"text-align: right;\">\n",
       "      <th></th>\n",
       "      <th>latitude</th>\n",
       "      <th>longitude</th>\n",
       "      <th>heating</th>\n",
       "      <th>air_conditioning</th>\n",
       "      <th>surface</th>\n",
       "      <th>new_flag</th>\n",
       "      <th>status</th>\n",
       "      <th>caption</th>\n",
       "      <th>price</th>\n",
       "      <th>room</th>\n",
       "      <th>property_class</th>\n",
       "      <th>category</th>\n",
       "      <th>total_building_floors</th>\n",
       "      <th>bathroom</th>\n",
       "      <th>elevator_flag</th>\n",
       "      <th>construction_year</th>\n",
       "      <th>title</th>\n",
       "      <th>condominium_fees</th>\n",
       "      <th>ownership</th>\n",
       "      <th>other_features</th>\n",
       "      <th>energy_efficiency</th>\n",
       "      <th>floor_text</th>\n",
       "      <th>floor</th>\n",
       "      <th>typology</th>\n",
       "      <th>description</th>\n",
       "      <th>visibility</th>\n",
       "      <th>main_photo_url</th>\n",
       "      <th>Region</th>\n",
       "      <th>surface_res</th>\n",
       "      <th>surface_comm</th>\n",
       "      <th>price_per_m2</th>\n",
       "      <th>Heating_Adj</th>\n",
       "      <th>Air_Conditioning_Adj</th>\n",
       "      <th>Condition</th>\n",
       "      <th>room_Adj</th>\n",
       "      <th>Property_Class</th>\n",
       "      <th>bathroom_Adj</th>\n",
       "      <th>energy_efficiency_Adj</th>\n",
       "    </tr>\n",
       "  </thead>\n",
       "  <tbody>\n",
       "    <tr>\n",
       "      <th>0</th>\n",
       "      <td>37.6</td>\n",
       "      <td>15.0</td>\n",
       "      <td>Autonomo</td>\n",
       "      <td>None</td>\n",
       "      <td>200 m²</td>\n",
       "      <td>0.0</td>\n",
       "      <td>Excellent condition / Renovated</td>\n",
       "      <td>Villa o villino in vendita a Mascalucia</td>\n",
       "      <td>310000</td>\n",
       "      <td>5+</td>\n",
       "      <td>Mid-range properties</td>\n",
       "      <td>Residential</td>\n",
       "      <td>3.0</td>\n",
       "      <td>3</td>\n",
       "      <td>0</td>\n",
       "      <td>1975.0</td>\n",
       "      <td>Villa unifamiliare via Busoni 5 Centro Mascalucia</td>\n",
       "      <td>0.0</td>\n",
       "      <td>Full ownership</td>\n",
       "      <td>['Balcone', 'Giardino privato']</td>\n",
       "      <td>None</td>\n",
       "      <td>Su più livelli</td>\n",
       "      <td>NaN</td>\n",
       "      <td>Single-family villa</td>\n",
       "      <td>Ampia villa con vista panoramica in via Busoni...</td>\n",
       "      <td>premium</td>\n",
       "      <td>https://pwm.im-cdn.it/image/1249030802/xxs-c.jpg</td>\n",
       "      <td>Sicilia</td>\n",
       "      <td>200.0</td>\n",
       "      <td>NaN</td>\n",
       "      <td>1550.0</td>\n",
       "      <td>heating</td>\n",
       "      <td>No AC</td>\n",
       "      <td>Renovated</td>\n",
       "      <td>5+</td>\n",
       "      <td>Mid-range</td>\n",
       "      <td>3</td>\n",
       "      <td>Unknown</td>\n",
       "    </tr>\n",
       "    <tr>\n",
       "      <th>1</th>\n",
       "      <td>37.6</td>\n",
       "      <td>15.1</td>\n",
       "      <td>None</td>\n",
       "      <td>None</td>\n",
       "      <td>300 m²</td>\n",
       "      <td>0.0</td>\n",
       "      <td>Needs renovation</td>\n",
       "      <td>Villa a Ficarazzi con ampio spazio esterno e l...</td>\n",
       "      <td>329000</td>\n",
       "      <td>5+</td>\n",
       "      <td>Luxury properties</td>\n",
       "      <td>Residential</td>\n",
       "      <td>2.0</td>\n",
       "      <td>2</td>\n",
       "      <td>0</td>\n",
       "      <td>1895.0</td>\n",
       "      <td>Villa unifamiliare via Tripoli 145 95021 Aci C...</td>\n",
       "      <td>0.0</td>\n",
       "      <td>Full ownership</td>\n",
       "      <td>['Balcone', 'Terrazza', 'Impianto tv singolo',...</td>\n",
       "      <td>G</td>\n",
       "      <td>Piano terra</td>\n",
       "      <td>0.0</td>\n",
       "      <td>Single-family villa</td>\n",
       "      <td>Composizione e dettagli rilevanti dellimmobile...</td>\n",
       "      <td>premium</td>\n",
       "      <td>https://pwm.im-cdn.it/image/1248833182/xxs-c.jpg</td>\n",
       "      <td>Sicilia</td>\n",
       "      <td>300.0</td>\n",
       "      <td>NaN</td>\n",
       "      <td>1096.7</td>\n",
       "      <td>No heating</td>\n",
       "      <td>No AC</td>\n",
       "      <td>Needs renovation</td>\n",
       "      <td>5+</td>\n",
       "      <td>Luxury</td>\n",
       "      <td>2</td>\n",
       "      <td>G</td>\n",
       "    </tr>\n",
       "    <tr>\n",
       "      <th>2</th>\n",
       "      <td>37.5</td>\n",
       "      <td>15.1</td>\n",
       "      <td>Autonomo</td>\n",
       "      <td>Autonomo, freddo/caldo</td>\n",
       "      <td>148 m² | commerciale 174,5 m²</td>\n",
       "      <td>0.0</td>\n",
       "      <td>Excellent condition / Renovated</td>\n",
       "      <td>Zona Ognina Indipendente con garage e spazio e...</td>\n",
       "      <td>330000</td>\n",
       "      <td>4</td>\n",
       "      <td>Mid-range properties</td>\n",
       "      <td>Residential</td>\n",
       "      <td>2.0</td>\n",
       "      <td>3</td>\n",
       "      <td>0</td>\n",
       "      <td>2000.0</td>\n",
       "      <td>Villa unifamiliare via Veglia 10 Picanello Cat...</td>\n",
       "      <td>0.0</td>\n",
       "      <td>Full ownership</td>\n",
       "      <td>['Cancello elettrico', 'Caminetto', 'VideoCito...</td>\n",
       "      <td>E</td>\n",
       "      <td>2 piani: da Seminterrato a Piano terra</td>\n",
       "      <td>0.0</td>\n",
       "      <td>Single-family villa</td>\n",
       "      <td>Nella zona di Ognina esattamente in via Veglia...</td>\n",
       "      <td>premium</td>\n",
       "      <td>https://pwm.im-cdn.it/image/1247716050/xxs-c.jpg</td>\n",
       "      <td>Sicilia</td>\n",
       "      <td>148.0</td>\n",
       "      <td>174.5</td>\n",
       "      <td>2229.7</td>\n",
       "      <td>heating</td>\n",
       "      <td>AC</td>\n",
       "      <td>Renovated</td>\n",
       "      <td>4</td>\n",
       "      <td>Mid-range</td>\n",
       "      <td>3</td>\n",
       "      <td>E</td>\n",
       "    </tr>\n",
       "    <tr>\n",
       "      <th>3</th>\n",
       "      <td>37.7</td>\n",
       "      <td>14.9</td>\n",
       "      <td>Autonomo</td>\n",
       "      <td>Autonomo, freddo/caldo</td>\n",
       "      <td>309 m²</td>\n",
       "      <td>0.0</td>\n",
       "      <td>Needs renovation</td>\n",
       "      <td>Villa singola in vendita a Adrano</td>\n",
       "      <td>319000</td>\n",
       "      <td>5+</td>\n",
       "      <td>Mid-range properties</td>\n",
       "      <td>Residential</td>\n",
       "      <td>2.0</td>\n",
       "      <td>3</td>\n",
       "      <td>0</td>\n",
       "      <td>1986.0</td>\n",
       "      <td>Villa unifamiliare Contrada DUrso Adrano</td>\n",
       "      <td>0.0</td>\n",
       "      <td>Full ownership</td>\n",
       "      <td>['Cancello elettrico', 'Caminetto', 'Porta bli...</td>\n",
       "      <td>G</td>\n",
       "      <td>Piano terra</td>\n",
       "      <td>0.0</td>\n",
       "      <td>Single-family villa</td>\n",
       "      <td>ReMax presenta in vendita in zona di montagna ...</td>\n",
       "      <td>premium</td>\n",
       "      <td>https://pwm.im-cdn.it/image/1246858720/xxs-c.jpg</td>\n",
       "      <td>Sicilia</td>\n",
       "      <td>309.0</td>\n",
       "      <td>NaN</td>\n",
       "      <td>1032.4</td>\n",
       "      <td>heating</td>\n",
       "      <td>AC</td>\n",
       "      <td>Needs renovation</td>\n",
       "      <td>5+</td>\n",
       "      <td>Mid-range</td>\n",
       "      <td>3</td>\n",
       "      <td>G</td>\n",
       "    </tr>\n",
       "    <tr>\n",
       "      <th>7</th>\n",
       "      <td>37.6</td>\n",
       "      <td>15.1</td>\n",
       "      <td>Autonomo</td>\n",
       "      <td>Autonomo, freddo/caldo</td>\n",
       "      <td>135 m² | commerciale 192,5 m²</td>\n",
       "      <td>0.0</td>\n",
       "      <td>New /WIP</td>\n",
       "      <td>Ville Nuova Costruzione Aci S Antonio</td>\n",
       "      <td>320000</td>\n",
       "      <td>5</td>\n",
       "      <td>Luxury properties</td>\n",
       "      <td>Residential</td>\n",
       "      <td>1.0</td>\n",
       "      <td>2</td>\n",
       "      <td>0</td>\n",
       "      <td>2023.0</td>\n",
       "      <td>Villa unifamiliare via Giacomo Matteotti Aci S...</td>\n",
       "      <td>0.0</td>\n",
       "      <td>Full ownership</td>\n",
       "      <td>['Cancello elettrico', 'Fibra ottica', 'Impian...</td>\n",
       "      <td>A+</td>\n",
       "      <td>Piano terra</td>\n",
       "      <td>0.0</td>\n",
       "      <td>Single-family villa</td>\n",
       "      <td>Lo Studio Etneo UniRE Immobiliare propone in v...</td>\n",
       "      <td>premium</td>\n",
       "      <td>https://pwm.im-cdn.it/image/1245298600/xxs-c.jpg</td>\n",
       "      <td>Sicilia</td>\n",
       "      <td>135.0</td>\n",
       "      <td>192.5</td>\n",
       "      <td>2370.4</td>\n",
       "      <td>heating</td>\n",
       "      <td>AC</td>\n",
       "      <td>New /WIP</td>\n",
       "      <td>5</td>\n",
       "      <td>Luxury</td>\n",
       "      <td>2</td>\n",
       "      <td>A</td>\n",
       "    </tr>\n",
       "  </tbody>\n",
       "</table>\n",
       "</div>"
      ],
      "text/plain": [
       "0  latitude  longitude   heating        air_conditioning  \\\n",
       "0      37.6       15.0  Autonomo                    None   \n",
       "1      37.6       15.1      None                    None   \n",
       "2      37.5       15.1  Autonomo  Autonomo, freddo/caldo   \n",
       "3      37.7       14.9  Autonomo  Autonomo, freddo/caldo   \n",
       "7      37.6       15.1  Autonomo  Autonomo, freddo/caldo   \n",
       "\n",
       "0                        surface  new_flag                           status  \\\n",
       "0                         200 m²       0.0  Excellent condition / Renovated   \n",
       "1                         300 m²       0.0                 Needs renovation   \n",
       "2  148 m² | commerciale 174,5 m²       0.0  Excellent condition / Renovated   \n",
       "3                         309 m²       0.0                 Needs renovation   \n",
       "7  135 m² | commerciale 192,5 m²       0.0                         New /WIP   \n",
       "\n",
       "0                                            caption   price room  \\\n",
       "0            Villa o villino in vendita a Mascalucia  310000   5+   \n",
       "1  Villa a Ficarazzi con ampio spazio esterno e l...  329000   5+   \n",
       "2  Zona Ognina Indipendente con garage e spazio e...  330000    4   \n",
       "3                  Villa singola in vendita a Adrano  319000   5+   \n",
       "7              Ville Nuova Costruzione Aci S Antonio  320000    5   \n",
       "\n",
       "0        property_class     category  total_building_floors bathroom  \\\n",
       "0  Mid-range properties  Residential                    3.0        3   \n",
       "1     Luxury properties  Residential                    2.0        2   \n",
       "2  Mid-range properties  Residential                    2.0        3   \n",
       "3  Mid-range properties  Residential                    2.0        3   \n",
       "7     Luxury properties  Residential                    1.0        2   \n",
       "\n",
       "0  elevator_flag  construction_year  \\\n",
       "0              0             1975.0   \n",
       "1              0             1895.0   \n",
       "2              0             2000.0   \n",
       "3              0             1986.0   \n",
       "7              0             2023.0   \n",
       "\n",
       "0                                              title  condominium_fees  \\\n",
       "0  Villa unifamiliare via Busoni 5 Centro Mascalucia               0.0   \n",
       "1  Villa unifamiliare via Tripoli 145 95021 Aci C...               0.0   \n",
       "2  Villa unifamiliare via Veglia 10 Picanello Cat...               0.0   \n",
       "3           Villa unifamiliare Contrada DUrso Adrano               0.0   \n",
       "7  Villa unifamiliare via Giacomo Matteotti Aci S...               0.0   \n",
       "\n",
       "0       ownership                                     other_features  \\\n",
       "0  Full ownership                    ['Balcone', 'Giardino privato']   \n",
       "1  Full ownership  ['Balcone', 'Terrazza', 'Impianto tv singolo',...   \n",
       "2  Full ownership  ['Cancello elettrico', 'Caminetto', 'VideoCito...   \n",
       "3  Full ownership  ['Cancello elettrico', 'Caminetto', 'Porta bli...   \n",
       "7  Full ownership  ['Cancello elettrico', 'Fibra ottica', 'Impian...   \n",
       "\n",
       "0 energy_efficiency                              floor_text  floor  \\\n",
       "0              None                          Su più livelli    NaN   \n",
       "1                 G                             Piano terra    0.0   \n",
       "2                 E  2 piani: da Seminterrato a Piano terra    0.0   \n",
       "3                 G                             Piano terra    0.0   \n",
       "7                A+                             Piano terra    0.0   \n",
       "\n",
       "0             typology                                        description  \\\n",
       "0  Single-family villa  Ampia villa con vista panoramica in via Busoni...   \n",
       "1  Single-family villa  Composizione e dettagli rilevanti dellimmobile...   \n",
       "2  Single-family villa  Nella zona di Ognina esattamente in via Veglia...   \n",
       "3  Single-family villa  ReMax presenta in vendita in zona di montagna ...   \n",
       "7  Single-family villa  Lo Studio Etneo UniRE Immobiliare propone in v...   \n",
       "\n",
       "0 visibility                                    main_photo_url   Region  \\\n",
       "0    premium  https://pwm.im-cdn.it/image/1249030802/xxs-c.jpg  Sicilia   \n",
       "1    premium  https://pwm.im-cdn.it/image/1248833182/xxs-c.jpg  Sicilia   \n",
       "2    premium  https://pwm.im-cdn.it/image/1247716050/xxs-c.jpg  Sicilia   \n",
       "3    premium  https://pwm.im-cdn.it/image/1246858720/xxs-c.jpg  Sicilia   \n",
       "7    premium  https://pwm.im-cdn.it/image/1245298600/xxs-c.jpg  Sicilia   \n",
       "\n",
       "0  surface_res  surface_comm  price_per_m2 Heating_Adj Air_Conditioning_Adj  \\\n",
       "0        200.0           NaN        1550.0     heating                No AC   \n",
       "1        300.0           NaN        1096.7  No heating                No AC   \n",
       "2        148.0         174.5        2229.7     heating                   AC   \n",
       "3        309.0           NaN        1032.4     heating                   AC   \n",
       "7        135.0         192.5        2370.4     heating                   AC   \n",
       "\n",
       "0         Condition room_Adj Property_Class bathroom_Adj energy_efficiency_Adj  \n",
       "0         Renovated       5+      Mid-range            3               Unknown  \n",
       "1  Needs renovation       5+         Luxury            2                     G  \n",
       "2         Renovated        4      Mid-range            3                     E  \n",
       "3  Needs renovation       5+      Mid-range            3                     G  \n",
       "7          New /WIP        5         Luxury            2                     A  "
      ]
     },
     "execution_count": 66,
     "metadata": {},
     "output_type": "execute_result"
    }
   ],
   "source": [
    "df_new.head()"
   ]
  },
  {
   "cell_type": "code",
   "execution_count": 67,
   "metadata": {},
   "outputs": [],
   "source": [
    "# Drop pictures and description per client suggestion\n",
    "df_final = df_new.drop(columns=['latitude', 'longitude', 'status', 'caption', 'heating', 'air_conditioning', 'surface', 'room', 'property_class', 'category', 'bathroom', 'title', 'other_features','energy_efficiency', 'floor_text','main_photo_url', 'description'])"
   ]
  },
  {
   "cell_type": "code",
   "execution_count": 68,
   "metadata": {},
   "outputs": [
    {
     "name": "stdout",
     "output_type": "stream",
     "text": [
      "<class 'pandas.core.frame.DataFrame'>\n",
      "Int64Index: 192696 entries, 0 to 226515\n",
      "Data columns (total 21 columns):\n",
      " #   Column                 Non-Null Count   Dtype  \n",
      "---  ------                 --------------   -----  \n",
      " 0   new_flag               125586 non-null  float64\n",
      " 1   price                  192696 non-null  int64  \n",
      " 2   total_building_floors  192696 non-null  float64\n",
      " 3   elevator_flag          192696 non-null  int64  \n",
      " 4   construction_year      192696 non-null  float64\n",
      " 5   condominium_fees       149012 non-null  float64\n",
      " 6   ownership              179202 non-null  object \n",
      " 7   floor                  180530 non-null  float64\n",
      " 8   typology               192696 non-null  object \n",
      " 9   visibility             192696 non-null  object \n",
      " 10  Region                 192696 non-null  object \n",
      " 11  surface_res            192696 non-null  float64\n",
      " 12  surface_comm           17111 non-null   float64\n",
      " 13  price_per_m2           192696 non-null  float64\n",
      " 14  Heating_Adj            192696 non-null  object \n",
      " 15  Air_Conditioning_Adj   192696 non-null  object \n",
      " 16  Condition              192696 non-null  object \n",
      " 17  room_Adj               192696 non-null  object \n",
      " 18  Property_Class         192696 non-null  object \n",
      " 19  bathroom_Adj           192696 non-null  object \n",
      " 20  energy_efficiency_Adj  192696 non-null  object \n",
      "dtypes: float64(8), int64(2), object(11)\n",
      "memory usage: 32.3+ MB\n"
     ]
    }
   ],
   "source": [
    "df_final.info()"
   ]
  },
  {
   "cell_type": "markdown",
   "metadata": {},
   "source": [
    "### 3.6.1 Condominium Fees"
   ]
  },
  {
   "cell_type": "code",
   "execution_count": 69,
   "metadata": {},
   "outputs": [],
   "source": [
    "# Update NaN with 0 for condominium_fees\n",
    "df_final['condominium_fees'] = df_final['condominium_fees'].fillna(0)"
   ]
  },
  {
   "cell_type": "markdown",
   "metadata": {},
   "source": [
    "### 3.6.2 Ownership"
   ]
  },
  {
   "cell_type": "code",
   "execution_count": 70,
   "metadata": {},
   "outputs": [],
   "source": [
    "#Update NaN for Ownership with Unknown\n",
    "df_final['ownership'] = df_final['ownership'].fillna('Unknown')"
   ]
  },
  {
   "cell_type": "markdown",
   "metadata": {},
   "source": [
    "### 3.6.3 Floor"
   ]
  },
  {
   "cell_type": "code",
   "execution_count": 71,
   "metadata": {},
   "outputs": [],
   "source": [
    "# Update NaN with 0 for floor\n",
    "df_final['floor'] = df_final['floor'].fillna(0)"
   ]
  },
  {
   "cell_type": "markdown",
   "metadata": {},
   "source": [
    "### 3.6.4 New Flag"
   ]
  },
  {
   "cell_type": "code",
   "execution_count": 72,
   "metadata": {},
   "outputs": [],
   "source": [
    "# Update NaN with 0 for new_flag\n",
    "df_final['new_flag'] = df_final['new_flag'].fillna(0)"
   ]
  },
  {
   "cell_type": "code",
   "execution_count": 73,
   "metadata": {},
   "outputs": [
    {
     "data": {
      "text/plain": [
       "0.0    180815\n",
       "1.0     11881\n",
       "Name: new_flag, dtype: int64"
      ]
     },
     "execution_count": 73,
     "metadata": {},
     "output_type": "execute_result"
    }
   ],
   "source": [
    "df_final['new_flag'].value_counts(dropna=False)"
   ]
  },
  {
   "cell_type": "code",
   "execution_count": 87,
   "metadata": {},
   "outputs": [
    {
     "data": {
      "image/png": "[encoded data removed]",
      "text/plain": [
       "<Figure size 2000x1600 with 2 Axes>"
      ]
     },
     "metadata": {},
     "output_type": "display_data"
    }
   ],
   "source": [
    "# Exclude 'Latitude', 'Longitude', and 'price' columns\n",
    "columns_to_exclude = ['price']\n",
    "df_filtered = df_final.drop(columns=columns_to_exclude)\n",
    "\n",
    "plt.figure(figsize=(20, 16))\n",
    "heatmap = sns.heatmap(df_filtered.corr(), \n",
    "                      fmt='.2g', \n",
    "                      annot=True, \n",
    "                      annot_kws={\"fontsize\": 10}, \n",
    "                      cmap='RdYlGn')\n",
    "heatmap.set_xticklabels(heatmap.get_xticklabels(), rotation=90, ha='right', fontsize=15)\n",
    "heatmap.set_yticklabels(heatmap.get_yticklabels(), rotation=0, ha='right', fontsize=15)\n",
    "\n",
    "plt.show()\n"
   ]
  },
  {
   "cell_type": "code",
   "execution_count": 91,
   "metadata": {},
   "outputs": [
    {
     "name": "stdout",
     "output_type": "stream",
     "text": [
      "<class 'pandas.core.frame.DataFrame'>\n",
      "Int64Index: 192696 entries, 0 to 226515\n",
      "Data columns (total 21 columns):\n",
      " #   Column                 Non-Null Count   Dtype  \n",
      "---  ------                 --------------   -----  \n",
      " 0   new_flag               192696 non-null  float64\n",
      " 1   price                  192696 non-null  int64  \n",
      " 2   total_building_floors  192696 non-null  float64\n",
      " 3   elevator_flag          192696 non-null  int64  \n",
      " 4   construction_year      192696 non-null  float64\n",
      " 5   condominium_fees       192696 non-null  float64\n",
      " 6   ownership              192696 non-null  object \n",
      " 7   floor                  192696 non-null  float64\n",
      " 8   typology               192696 non-null  object \n",
      " 9   visibility             192696 non-null  object \n",
      " 10  Region                 192696 non-null  object \n",
      " 11  surface_res            192696 non-null  float64\n",
      " 12  surface_comm           17111 non-null   float64\n",
      " 13  price_per_m2           192696 non-null  float64\n",
      " 14  Heating_Adj            192696 non-null  object \n",
      " 15  Air_Conditioning_Adj   192696 non-null  object \n",
      " 16  Condition              192696 non-null  object \n",
      " 17  room_Adj               192696 non-null  object \n",
      " 18  Property_Class         192696 non-null  object \n",
      " 19  bathroom_Adj           192696 non-null  object \n",
      " 20  energy_efficiency_Adj  192696 non-null  object \n",
      "dtypes: float64(8), int64(2), object(11)\n",
      "memory usage: 32.3+ MB\n"
     ]
    }
   ],
   "source": [
    "df_final.info()"
   ]
  },
  {
   "cell_type": "code",
   "execution_count": 92,
   "metadata": {},
   "outputs": [
    {
     "data": {
      "text/plain": [
       "0\n",
       "new_flag                      0\n",
       "price                         0\n",
       "total_building_floors         0\n",
       "elevator_flag                 0\n",
       "construction_year             0\n",
       "condominium_fees              0\n",
       "ownership                     0\n",
       "floor                         0\n",
       "typology                      0\n",
       "visibility                    0\n",
       "Region                        0\n",
       "surface_res                   0\n",
       "surface_comm             175585\n",
       "price_per_m2                  0\n",
       "Heating_Adj                   0\n",
       "Air_Conditioning_Adj          0\n",
       "Condition                     0\n",
       "room_Adj                      0\n",
       "Property_Class                0\n",
       "bathroom_Adj                  0\n",
       "energy_efficiency_Adj         0\n",
       "dtype: int64"
      ]
     },
     "execution_count": 92,
     "metadata": {},
     "output_type": "execute_result"
    }
   ],
   "source": [
    "df_final.isna().sum()"
   ]
  },
  {
   "cell_type": "code",
   "execution_count": 93,
   "metadata": {},
   "outputs": [],
   "source": [
    "df_final.to_csv('data_clean.csv', index=False)"
   ]
  }
 ],
 "metadata": {
  "kernelspec": {
   "display_name": "Python 3 (ipykernel)",
   "language": "python",
   "name": "python3"
  },
  "language_info": {
   "codemirror_mode": {
    "name": "ipython",
    "version": 3
   },
   "file_extension": ".py",
   "mimetype": "text/x-python",
   "name": "python",
   "nbconvert_exporter": "python",
   "pygments_lexer": "ipython3",
   "version": "3.9.13"
  }
 },
 "nbformat": 4,
 "nbformat_minor": 2
}
